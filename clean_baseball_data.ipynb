{
 "cells": [
  {
   "cell_type": "code",
   "execution_count": 16,
   "id": "781b8ebd",
   "metadata": {},
   "outputs": [],
   "source": [
    "import pandas as pd\n",
    "import datetime               \n",
    "import numpy as np\n",
    "import warnings\n",
    "\n",
    "df_all_dirty = pd.read_csv(r\"C:\\Users\\mbela\\Downloads\\Projects\\mlbRuleChangeAnalysis\\savant_all_Pitches.csv\")\n",
    "# display(df_all_dirty.head())\n",
    "df_slider_dirty = pd.read_csv(r\"C:\\Users\\mbela\\Downloads\\Projects\\mlbRuleChangeAnalysis\\savant_slider.csv\")\n",
    "# display(df_slider_dirty.head())\n",
    "df_4seam_dirty = pd.read_csv(r\"C:\\Users\\mbela\\Downloads\\Projects\\mlbRuleChangeAnalysis\\savant_4seam.csv\")\n",
    "# display(df_4seam_dirty.head())"
   ]
  },
  {
   "cell_type": "code",
   "execution_count": 17,
   "id": "c6cb9802",
   "metadata": {},
   "outputs": [],
   "source": [
    "### CLEAN (LEAGUE-WIDE) and (TEAM) PITCH DATA\n",
    "\n",
    "def clean_pitch(df, pitch_type=None, team=None):\n",
    "    stats = ['pitches','total_pitches','pitch_percent','ba','iso','babip','slg','woba','hits','abs','spin_rate','velocity','sv_ratio','whiffs','swings','takes','WHIFF','swstr']\n",
    "    league_headers = ['game_date','period','pitches','total_pitches','pitch_percent','ba','iso','babip','slg','woba','hits','abs','spin_rate','velocity','sv_ratio','whiffs','swings','takes','WHIFF','swstr']\n",
    "    team_headers = ['game_date','period','team_name','pitches','total_pitches','pitch_percent','ba','iso','babip','slg','woba','hits','abs','spin_rate','velocity','sv_ratio','whiffs','swings','takes','WHIFF','swstr']\n",
    "    \n",
    "    warnings.filterwarnings(\"ignore\")                                                 # generally bad practice, but in this case--> not a problem\n",
    "    df['game_date'] = pd.to_datetime(df['game_date'])                                 # convert game_date to datetime \n",
    "    df = df.sort_values('game_date')                                                  # sort by game_date\n",
    "    df.rename(columns={'spin/velo':'sv_ratio'}, inplace=True)                         # change column name\n",
    "    df['sv_ratio'] = pd.to_numeric(df['sv_ratio'], errors='coerce')                   # convert sv_ratio to float64\n",
    "    df['WHIFF'] = pd.to_numeric(df['WHIFF'], errors='coerce')                         # convert WHIFF to float64\n",
    "    df_clean=df.dropna()                                                              # drop Nan \n",
    "    if team == None:\n",
    "        df_clean=df_clean.groupby('game_date',as_index=False)[stats].mean()           # create daily, league-wide stats. If team != None then we will create a dataframe with team performances --> allows us to compare teams\n",
    "    conditions = [                                                                    # adds column with 'periods', makes it easier to do hypothesis tests later\n",
    "        (df_clean['game_date'] <= '2021-06-03'),                                    \n",
    "        (df_clean['game_date'] > '2021-06-03') & (df_clean['game_date'] <= '2021-06-20'), \n",
    "        (df_clean['game_date'] > '2021-06-20')]\n",
    "    values = ['before', 'transition', 'after']\n",
    "    df_clean['period'] = np.select(conditions, values)\n",
    "    if team == None:\n",
    "        df_clean=df_clean.reindex(columns=league_headers)                             # creates column headers without 'team_name'\n",
    "    else:\n",
    "        df_clean=df_clean.reindex(columns=team_headers)                               # creates column headers with 'team_name'\n",
    "    if pitch_type != None:                                                            # changes 'pitches' to more informative title if we are looking at a specific type of pitch\n",
    "        df_clean.rename(columns={'pitches': pitch_type}, inplace=True)\n",
    "    df_clean.set_index('game_date',inplace=True)                                      # sets game_date as index\n",
    "    df_clean['period'] = df_clean['period'].astype('category')                        # changes period to category, makes it easier to work with later\n",
    "    pd.set_option('display.max_rows', None)                                           \n",
    "    pd.set_option('display.max_columns', None)\n",
    "#     df_clean.info()\n",
    "    return df_clean"
   ]
  },
  {
   "cell_type": "code",
   "execution_count": 21,
   "id": "94028ede",
   "metadata": {
    "scrolled": true
   },
   "outputs": [],
   "source": [
    "### CREATE .csv's FOR ANALYSIS PAGE \n",
    "\n",
    "### (LEAGUE-WIDE STATS)\n",
    "df_league_all = clean_pitch(df_all_dirty)\n",
    "df_league_slider = clean_pitch(df_slider_dirty, 'slider')\n",
    "df_league_4seam = clean_pitch(df_4seam_dirty, '4seamFB')\n",
    "\n",
    "## test:\n",
    "# display(df_league_all)\n",
    "# display(df_league_slider)\n",
    "# display(df_league_4seam)\n",
    "\n",
    "## transfer to other page\n",
    "df_league_all.to_csv('league_all.csv')\n",
    "df_league_slider.to_csv('league_slider.csv')\n",
    "df_league_4seam.to_csv('league_4seam.csv')\n",
    "\n",
    "\n",
    "\n",
    "### (TEAM STATS)\n",
    "df_team_all = clean_pitch(df_all_dirty, team = 1)\n",
    "df_team_slider = clean_pitch(df_slider_dirty, 'slider', 1)\n",
    "df_team_4seam = clean_pitch(df_4seam_dirty, '4seamFB', 1)\n",
    "\n",
    "## test:\n",
    "# display(df_team_all)\n",
    "# display(df_team_slider)\n",
    "# display(df_team_4seam)\n",
    "\n",
    "## transfer to other page\n",
    "df_team_all.to_csv('team_all.csv')\n",
    "df_team_slider.to_csv('team_slider.csv')\n",
    "df_team_4seam.to_csv('team_4seam.csv')"
   ]
  },
  {
   "cell_type": "code",
   "execution_count": null,
   "id": "03eb6781",
   "metadata": {},
   "outputs": [],
   "source": []
  }
 ],
 "metadata": {
  "kernelspec": {
   "display_name": "Python 3",
   "language": "python",
   "name": "python3"
  },
  "language_info": {
   "codemirror_mode": {
    "name": "ipython",
    "version": 3
   },
   "file_extension": ".py",
   "mimetype": "text/x-python",
   "name": "python",
   "nbconvert_exporter": "python",
   "pygments_lexer": "ipython3",
   "version": "3.8.8"
  }
 },
 "nbformat": 4,
 "nbformat_minor": 5
}
